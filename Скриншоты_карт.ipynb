{
 "cells": [
  {
   "cell_type": "code",
   "execution_count": 1,
   "id": "19a1bb8b",
   "metadata": {
    "pycharm": {
     "name": "#%%\n"
    }
   },
   "outputs": [],
   "source": [
    "from selenium.webdriver.common.by import By\n",
    "from tqdm.auto import tqdm\n",
    "from selenium import webdriver\n",
    "from selenium.webdriver.chrome.options import Options\n",
    "import time\n",
    "import pandas as pd\n",
    "import re\n",
    "import spacy\n",
    "from selenium.webdriver.support.wait import WebDriverWait\n",
    "from selenium.common.exceptions import TimeoutException\n",
    "from selenium.webdriver.support import expected_conditions as EC\n",
    "import itertools\n",
    "import os\n",
    "import cv2\n",
    "import math\n",
    "import datetime"
   ]
  },
  {
   "cell_type": "code",
   "execution_count": 2,
   "outputs": [],
   "source": [
    "# Если не с качивается модель, то попробовать вот так\n",
    "# !pip install spacy\n",
    "# !pip install https://github.com/explosion/spacy-models/releases/download/ru_core_news_sm-3.4.0/ru_core_news_sm-3.4.0.tar.gz\n",
    "# скачивание модели на локальный диск\n",
    "# nlp.to_disk('ru_core_news_sm-3.4.0')\n",
    "# nlp = spacy.load('ru_core_news_sm-3.4.0')\n",
    "# pip freeze > requirements.txt\n",
    "# Ссылка на сайт с драйверами https://chromedriver.chromium.org/downloads\n",
    "# Версия хрома chrome://system/"
   ],
   "metadata": {
    "collapsed": false,
    "pycharm": {
     "name": "#%%\n"
    }
   }
  },
  {
   "cell_type": "markdown",
   "source": [
    "# Функции"
   ],
   "metadata": {
    "collapsed": false,
    "pycharm": {
     "name": "#%% md\n"
    }
   }
  },
  {
   "cell_type": "code",
   "execution_count": 25,
   "outputs": [],
   "source": [
    "def lemm_finder(list_of_text, stop_words=0, wrong_geoobjects=0):\n",
    "    \"\"\" Функция позволяет перевети все формы слова в леммы\"\"\"\n",
    "    lemma_list = []\n",
    "    for i in tqdm(list_of_text,desc='lemm_finder'):\n",
    "        text = ' '.join(re.findall(r'[А-Яа-я]+', i))\n",
    "        doc = nlp(text)\n",
    "        lemma = []\n",
    "        for token in doc:\n",
    "            lemma.append(token.lemma_)\n",
    "        text_new = ' '.join(lemma)\n",
    "        if stop_words != 0:\n",
    "            for j in stop_words:\n",
    "                text_new = re.sub(rf'( {j}\\b)', '', text_new)\n",
    "        lemma_list.append(text_new)\n",
    "    if wrong_geoobjects != 0:\n",
    "        lemma_list = [c for c in\n",
    "                      [0 if len([b for b in a.split() if b not in wrong_geoobjects]) < len(a.split()) else a if len(\n",
    "                          a.split()) != 1 else 0\n",
    "                       for a in lemma_list if a not in wrong_geoobjects] if c != 0]\n",
    "    return lemma_list\n",
    "\n",
    "\n",
    "def test_page(driver, delay, element):\n",
    "    '''Функция проверки загрузки страницы\n",
    "        delay - количесво секунд ожидания\n",
    "        element - что ищем пример (By.CLASS_NAME, 'popup-obj')\n",
    "        driver - драйвер пример\n",
    "        if __name__ == \"__main__\":\n",
    "        driver = Chrome(executable_path=\"./chromedriver.exe\")'''\n",
    "    # проверка загрузилась ли стр\n",
    "    try:\n",
    "        myElem = WebDriverWait(driver, delay).until(\n",
    "            EC.presence_of_element_located(\n",
    "                element))\n",
    "    except TimeoutException:\n",
    "        print(\"Loading took too much time!\")\n",
    "\n",
    "\n",
    "# запускае браузер\n",
    "def get_screens(city_list, url='https://lostarmour.info/map/?ysclid=latojsz8nr362636823)', Date='29_11_22'):\n",
    "    # Настрока и запуск браузера\n",
    "    options = Options()\n",
    "    options.page_load_strategy = 'normal'\n",
    "    driver = webdriver.Chrome(executable_path=\"./chromedriver.exe\", options=options)\n",
    "    # Переход на сайт\n",
    "    driver.get(url)\n",
    "    # Переключаемся на iframe\n",
    "    driver.switch_to.frame(driver.find_element(By.TAG_NAME, \"iframe\"))\n",
    "    window_before = driver.window_handles[0]\n",
    "    # Переходим на страницу яндекс карт\n",
    "    try:\n",
    "        driver.find_element(By.XPATH,\n",
    "                            \"/html/body/div/div/div/div[2]/div[1]/div[1]/div[4]/div/a\").click()\n",
    "    except:\n",
    "        driver.find_element(By.XPATH,\n",
    "                            \"/html/body/div/div/div/div[2]/div[1]/div[1]/div[4]/div/a\").click()\n",
    "    window_after = driver.window_handles[1]\n",
    "    # Переключаемся обратно\n",
    "    driver.switch_to.default_content()\n",
    "    driver.switch_to.window(window_after)\n",
    "    # Экран в полный формат\n",
    "    driver.fullscreen_window()\n",
    "\n",
    "    for city in tqdm(city_list,desc='get_screens'):\n",
    "        try:\n",
    "            # Ввод тектса\n",
    "            driver.find_element(By.TAG_NAME, \"input\").send_keys(city)\n",
    "            # Нажать на ввод поиска\n",
    "            driver.find_element(By.TAG_NAME, \"button\").click()\n",
    "            # Цикл для зума\n",
    "            for i in range(10):\n",
    "                time.sleep(0.1)\n",
    "                # Нажать на кнопку приближения\n",
    "                driver.find_element(By.CLASS_NAME, \"zoom-control__zoom-in\").click()\n",
    "            # Проверяем загрузился ли элемент\n",
    "            test_page(driver=driver, delay=3,\n",
    "                      element=(By.XPATH,\n",
    "                               \"//span[@class='inline-image _loaded sidebar-toggle-button__icon']\"))\n",
    "            time.sleep(1)\n",
    "            # Нажать на кнопку для того, чтобы убрать поиск\n",
    "            driver.find_element(\n",
    "                By.XPATH,\n",
    "                \"//span[@class='inline-image _loaded sidebar-toggle-button__icon']\").click()\n",
    "            # Создаем папку для фото\n",
    "            if not os.path.exists(f\"Скриншоты/{Date}\"):\n",
    "                os.mkdir(f\"Скриншоты/{Date}\")\n",
    "\n",
    "            # Делаем скриншот\n",
    "            driver.save_screenshot(f'Скриншоты/{Date}/{city}.png')\n",
    "            # Отчистить поле поиска нажав кнопку\n",
    "            driver.find_element(\n",
    "                By.XPATH,\n",
    "                \"//div[@class='small-search-form-view__icon _type_close']\").click()\n",
    "        except:\n",
    "            print(f'Проблема с городом {city}')\n",
    "            continue\n",
    "    driver.quit()\n",
    "\n",
    "\n",
    "def find_words(key_words, text):\n",
    "    \"\"\"Проверяет есть ли слова в списке текстов, если есть, то возвращает их, если нет то\n",
    "    возвращает 0\"\"\"\n",
    "    find_list = []\n",
    "    for i in key_words:\n",
    "        if len(re.findall(rf'{i}', text)) != 0:\n",
    "            find_list = find_list + re.findall(rf'{i}', text)\n",
    "    # find_list = ', '.join(find_list)\n",
    "    return find_list\n",
    "\n",
    "\n",
    "def find_distance(sentence, word1, word2):\n",
    "    \"\"\"Находит колличесво слов между двумя словами в тексте\"\"\"\n",
    "    distances = []\n",
    "    while sentence != \"\":\n",
    "        _, _, sentence = sentence.partition(word1)\n",
    "        text, _, _ = sentence.partition(word2)\n",
    "        if text != \"\":\n",
    "            distances.append(len(text.split()))\n",
    "    return distances\n",
    "\n",
    "\n",
    "def text_cheсk(df_with_text, text_column_name, all_key_words, cities_list, russian_cities_list, check_cities_list):\n",
    "    \"\"\"определеяет в каких текстах есть ключивые слова (пересечение городов и проблеммы)\"\"\"\n",
    "    df_texts = df_with_text.copy()\n",
    "    # Выделяем леммы\n",
    "    new_text_list = lemm_finder(list_of_text=list(df_texts[text_column_name]))\n",
    "    # Проверяем тексты на ключевые слова\n",
    "    df_texts[\"New_text\"] = new_text_list\n",
    "    df_texts[\"Contains_key_words\"] = df_texts['New_text'].str.contains('|'.join(all_key_words)).astype(int)\n",
    "    df_texts[\"Contains_cities_list\"] = df_texts['New_text'].str.contains('|'.join(cities_list)).astype(int)\n",
    "\n",
    "    # Разделяем ключевые словосочетания на слова\n",
    "    all_key_words_split = []\n",
    "    for i in all_key_words:\n",
    "        all_key_words_split = all_key_words_split + i.split()\n",
    "    all_key_words_split = list(set(all_key_words_split))\n",
    "    # Формируем все возможные комбинации названий городов и ключевых слов\n",
    "    a = [cities_list, all_key_words_split]\n",
    "    all_combinations = list(itertools.product(*a))\n",
    "\n",
    "    df_20_words_length = pd.DataFrame()\n",
    "    for text_index in tqdm(list(df_texts.index),desc='text_cheсk'):\n",
    "        for iteration in range(len(all_combinations)):\n",
    "            try:\n",
    "                word_distance = find_distance(df_texts.loc[text_index]['New_text'], all_combinations[iteration][0],\n",
    "                                              all_combinations[iteration][1])[0]\n",
    "                if word_distance <= 10:\n",
    "                    df = pd.DataFrame()\n",
    "                    df['good_index'] = [text_index]\n",
    "                    df['word_1'] = [all_combinations[iteration]]\n",
    "                    df_20_words_length = pd.concat([df_20_words_length, df])\n",
    "            except:\n",
    "                continue\n",
    "    good_index = set(list(df_20_words_length[\"good_index\"]))\n",
    "    df_texts[\"Contains_20_words_length\"] = [1 if a in good_index else 0 for a in df_texts.index]\n",
    "    df_texts[\"Contains_sum\"] = df_texts[\"Contains_cities_list\"] + df_texts[\"Contains_key_words\"] + df_texts[\n",
    "        \"Contains_20_words_length\"]\n",
    "    df_with_text['contain_key_words'] = [1 if a == 3 else 0 for a in df_texts[\"Contains_sum\"]]\n",
    "    df_with_text['problem_type'] = [\n",
    "        ','.join(list(set(find_words(all_key_words, df_texts.loc[index]['New_text'])))) if\n",
    "        df_texts.loc[index]['Contains_sum'] == 3 else 0 for index in df_texts.index]\n",
    "\n",
    "    df_with_text['russian_cities'] = [\n",
    "        ','.join(list(set(find_words(russian_cities_list, df_texts.loc[index]['New_text'])))) if\n",
    "        df_texts.loc[index]['Contains_sum'] == 3 else 0 for index in df_texts.index]\n",
    "\n",
    "    df_with_text['checked_cities'] = [\n",
    "        ','.join(list(set(find_words(check_cities_list, df_texts.loc[index]['New_text'])))) if\n",
    "        df_texts.loc[index]['Contains_sum'] == 3 else 0 for index in df_texts.index]\n",
    "    df_with_text\n",
    "    return df_with_text\n",
    "\n",
    "def get_image_path(image_name: str):\n",
    "    now = datetime.datetime.now()\n",
    "    Date = now.strftime(\"%d_%m_%Y\")\n",
    "\n",
    "    image_path = f'Скриншоты/{Date}' + '/' + image_name\n",
    "\n",
    "    return image_path\n",
    "\n",
    "\n",
    "def get_image_colors(image_name: str):\n",
    "    image_path = get_image_path(image_name)\n",
    "    image = cv2.imread(image_path)\n",
    "\n",
    "    image_colors = []\n",
    "\n",
    "    for i in (1, 2, 3, 4):\n",
    "        gbr_colors = image[image.shape[0] // i - 1, image.shape[1] // i - 1]\n",
    "        image_colors.append(gbr_colors[::-1])\n",
    "\n",
    "    return image_colors\n",
    "\n",
    "\n",
    "def calculate_color_differences_percent(first_color: list, second_color: list):\n",
    "    maximum_difference = math.sqrt(3 * 256 ** 2)\n",
    "\n",
    "    color_difference = math.sqrt((first_color[0] - second_color[0]) ** 2 + (first_color[1] - second_color[1]) ** 2 + (\n",
    "            first_color[2] - second_color[2]) ** 2)\n",
    "\n",
    "    color_difference_percent = color_difference / maximum_difference * 100\n",
    "\n",
    "    return color_difference_percent\n",
    "\n",
    "\n",
    "def check_colors(image_colors: list, zone_colors: list):\n",
    "    count = 0\n",
    "    for i in image_colors:\n",
    "        for j in zone_colors:\n",
    "            if calculate_color_differences_percent(i, j) < 6.00:\n",
    "                count += 1\n",
    "\n",
    "    if count >= 2:\n",
    "        return True\n",
    "    else:\n",
    "        return False\n",
    "\n",
    "\n",
    "def get_zone_name(image_colors: list):\n",
    "    orange_zone_colors = [[250, 223, 186], [204, 200, 182], [223, 213, 149]]\n",
    "    red_zone_colors = [[196, 177, 190], [242, 200, 194], [215, 190, 156]]\n",
    "\n",
    "    if check_colors(image_colors, orange_zone_colors):\n",
    "        return 'Под контролем РФ'\n",
    "    elif check_colors(image_colors, red_zone_colors):\n",
    "        return 'Под контролем РФ'\n",
    "    else:\n",
    "        return 'Не под контролем РФ'\n",
    "\n",
    "\n",
    "def get_territory_status(key_words_find: list, result_column: dict):\n",
    "    territory_status = []\n",
    "    for i in key_words_find:\n",
    "        if i == 0:\n",
    "            territory_status.append(0)\n",
    "        else:\n",
    "            row_list = i.split(',')\n",
    "            res_list = []\n",
    "            for j in row_list:\n",
    "                try:\n",
    "                    result_column[j]\n",
    "                except KeyError:\n",
    "                    pass\n",
    "                else:\n",
    "                    res_list.append(f'{j} - {result_column[j]}')\n",
    "\n",
    "            territory_status.append(res_list)\n",
    "\n",
    "    return territory_status\n"
   ],
   "metadata": {
    "collapsed": false,
    "pycharm": {
     "name": "#%%\n"
    }
   }
  },
  {
   "cell_type": "markdown",
   "source": [
    "# Код"
   ],
   "metadata": {
    "collapsed": false,
    "pycharm": {
     "name": "#%% md\n"
    }
   }
  },
  {
   "cell_type": "markdown",
   "source": [
    "## Получение скринштов"
   ],
   "metadata": {
    "collapsed": false,
    "pycharm": {
     "name": "#%% md\n"
    }
   }
  },
  {
   "cell_type": "code",
   "execution_count": 6,
   "outputs": [
    {
     "data": {
      "text/plain": "  0%|          | 0/100 [00:00<?, ?it/s]",
      "application/vnd.jupyter.widget-view+json": {
       "version_major": 2,
       "version_minor": 0,
       "model_id": "fd7c868fe0ea4f02888822dc9109d93a"
      }
     },
     "metadata": {},
     "output_type": "display_data"
    },
    {
     "name": "stderr",
     "output_type": "stream",
     "text": [
      "/var/folders/pt/rpf8lgcj6zjc0wsmcg9jyy6r0000gn/T/ipykernel_17970/3399993907.py:44: DeprecationWarning: executable_path has been deprecated, please pass in a Service object\n",
      "  driver = webdriver.Chrome(executable_path=\"./chromedriver.exe\", options=options)\n"
     ]
    },
    {
     "data": {
      "text/plain": "  0%|          | 0/5 [00:00<?, ?it/s]",
      "application/vnd.jupyter.widget-view+json": {
       "version_major": 2,
       "version_minor": 0,
       "model_id": "98f18a0206934678a51bc79611d6dc2d"
      }
     },
     "metadata": {},
     "output_type": "display_data"
    }
   ],
   "source": [
    "# Определяем сегодняшнюю дату\n",
    "now = datetime.datetime.now()\n",
    "Date = now.strftime(\"%d_%m_%Y\")\n",
    "\n",
    "# Загружаем модель для обработки русского текста\n",
    "nlp = spacy.load('ru_core_news_sm-3.4.0')\n",
    "# Скачиваем список городов интерфакса\n",
    "df_cities = pd.read_excel('Входные данные/Аналитическая панель СКАН (1).xlsx', sheet_name='Регионы')\n",
    "# Убираем лишние города из списка\n",
    "cities_list = lemm_finder(list(df_cities['Наименование'].dropna()),\n",
    "                          stop_words=['область', 'обл', 'край', 'обл.', 'город', 'республика', 'район', 'на'],\n",
    "                          wrong_geoobjects=['сша', 'украина', 'киев', 'европа','молдавия'])\n",
    "# разделяем словосочетания на слова\n",
    "cities_list_new = []\n",
    "for i in cities_list:\n",
    "    cities_list_new = cities_list_new + i.split()\n",
    "cities_list_new = [a for a in cities_list_new if a not in ['республика']]\n",
    "\n",
    "# Скачиваем российские территории\n",
    "geoobject_our = pd.read_excel('our_list_of_geobjects.xlsx')\n",
    "geoobject_our_list = []\n",
    "for i in list(geoobject_our['name_area_new'].dropna()) + list(geoobject_our['region_name_new'].dropna().unique()):\n",
    "    geoobject_our_list = geoobject_our_list + i.split()\n",
    "\n",
    "# Определяем российские города из списка интерфакса и те, что надо проверить\n",
    "russian_cities_list = [a for a in cities_list_new if a in geoobject_our_list]\n",
    "check_cities_list = [a for a in cities_list_new if a not in geoobject_our_list]\n",
    "\n",
    "get_screens(city_list=check_cities_list, url='https://lostarmour.info/map/?ysclid=latojsz8nr362636823)', Date=Date)"
   ],
   "metadata": {
    "collapsed": false,
    "pycharm": {
     "name": "#%%\n"
    }
   }
  },
  {
   "cell_type": "markdown",
   "source": [
    "## Поисков необходимых текстов и определение сатуса города по скриншотам"
   ],
   "metadata": {
    "collapsed": false,
    "pycharm": {
     "name": "#%% md\n"
    }
   }
  },
  {
   "cell_type": "code",
   "execution_count": 26,
   "outputs": [
    {
     "data": {
      "text/plain": "lemm_finder:   0%|          | 0/18 [00:00<?, ?it/s]",
      "application/vnd.jupyter.widget-view+json": {
       "version_major": 2,
       "version_minor": 0,
       "model_id": "7e60d0fbd54a4702863547cb1a5d2824"
      }
     },
     "metadata": {},
     "output_type": "display_data"
    },
    {
     "data": {
      "text/plain": "lemm_finder:   0%|          | 0/224 [00:00<?, ?it/s]",
      "application/vnd.jupyter.widget-view+json": {
       "version_major": 2,
       "version_minor": 0,
       "model_id": "3cbd57562205400089ffc7b5920dfd17"
      }
     },
     "metadata": {},
     "output_type": "display_data"
    },
    {
     "data": {
      "text/plain": "text_cheсk:   0%|          | 0/224 [00:00<?, ?it/s]",
      "application/vnd.jupyter.widget-view+json": {
       "version_major": 2,
       "version_minor": 0,
       "model_id": "c32e95de4bb14538aaf0ba1b58944904"
      }
     },
     "metadata": {},
     "output_type": "display_data"
    },
    {
     "data": {
      "text/plain": "                 Дата                                         Источник  \\\n0    06.12.2022 23:25                                 Известия (iz.ru)   \n1    06.12.2022 22:00                               Москва 24 (m24.ru)   \n2    06.12.2022 21:45                        Деловой Ейск (deleysk.ru)   \n3    06.12.2022 21:22                          ИА Высота 102 (v102.ru)   \n4    06.12.2022 21:12  Блокнот (bloknot-novorossiysk.ru). Новороссийск   \n..                ...                                              ...   \n219  05.12.2022 02:33                                          N4K.com   \n220  05.12.2022 01:31                       СочиСтрим (sochistream.ru)   \n221  05.12.2022 01:00                       Путь Октября (put-okt.com)   \n222  05.12.2022 00:01                   Ритм Евразии (ritmeurasia.org)   \n223  05.12.2022 00:00                   Русские Онлайн (rusonline.org)   \n\n                                             Заголовок  \\\n0    Небензя заявил о продолжении ударов РФ по инфр...   \n1    Европа оказалась во власти погоды и собственны...   \n2                           Отключение электроэнергии!   \n3    В пяти районах Волгограда 7 декабря отключат свет   \n4    Южный, Центральный районы и пригород: новоросс...   \n..                                                 ...   \n219  Прояснилась нынешняя обстановка в Херсоне на с...   \n220  В Краснодаре жители нескольких улиц из-за энер...   \n221  Владимир Путин встретился с молодыми учеными в...   \n222  Проблемы возобновляемых источников энергии в ЕАЭС   \n223  Настал переломный момент: Осознав что произошл...   \n\n                                    Выдержки из текста  \\\n0      Постпред при ООН Небензя: Россия продолжит н...   \n1                                                  ...   \n2       В связи с чисткой трассы от ветвей деревьев...   \n3                             Плановые отключения э...   \n4                   7 декабря подачу электричества ...   \n..                                                 ...   \n219       После того, как российская армия покинула...   \n220     Поздно вечером 4 декабря в Прикубанском окр...   \n221    В парке науки и искусства \"Сириус\" в Сочи Вл...   \n222           В мире обостряется спор сторонников д...   \n223         Да, и это заметно. В первую очередь это...   \n\n                                    Ссылка на источник  contain_key_words  \\\n0    https://iz.ru/1436715/2022-12-06/nebenzia-zaia...                  0   \n1    https://www.m24.ru/videos/za-rubezhom/06122022...                  0   \n2                     http://www.deleysk.ru/news/21042                  0   \n3                     https://v102.ru/news/113890.html                  0   \n4    https://bloknot-novorossiysk.ru/news/yuzhnyy-t...                  0   \n..                                                 ...                ...   \n219  https://n4k.ru/2022/12/05/projasnilas-nyneshnj...                  0   \n220  https://sochistream.ru/novosti/proishestviya/v...                  1   \n221  https://put-okt.com/articles/eto-interesno/202...                  0   \n222  https://www.ritmeurasia.org/news--2022-12-05--...                  0   \n223  https://rusonline.org/ukraine/nastal-perelomny...                  0   \n\n                  problem_type  russian_cities checked_cities territory_status  \n0                            0               0              0                0  \n1                            0               0              0                0  \n2                            0               0              0                0  \n3                            0               0              0                0  \n4                            0               0              0                0  \n..                         ...             ...            ...              ...  \n219                          0               0              0                0  \n220  отключение электроэнергия  сочи,краснодар                              []  \n221                          0               0              0                0  \n222                          0               0              0                0  \n223                          0               0              0                0  \n\n[224 rows x 10 columns]",
      "text/html": "<div>\n<style scoped>\n    .dataframe tbody tr th:only-of-type {\n        vertical-align: middle;\n    }\n\n    .dataframe tbody tr th {\n        vertical-align: top;\n    }\n\n    .dataframe thead th {\n        text-align: right;\n    }\n</style>\n<table border=\"1\" class=\"dataframe\">\n  <thead>\n    <tr style=\"text-align: right;\">\n      <th></th>\n      <th>Дата</th>\n      <th>Источник</th>\n      <th>Заголовок</th>\n      <th>Выдержки из текста</th>\n      <th>Ссылка на источник</th>\n      <th>contain_key_words</th>\n      <th>problem_type</th>\n      <th>russian_cities</th>\n      <th>checked_cities</th>\n      <th>territory_status</th>\n    </tr>\n  </thead>\n  <tbody>\n    <tr>\n      <th>0</th>\n      <td>06.12.2022 23:25</td>\n      <td>Известия (iz.ru)</td>\n      <td>Небензя заявил о продолжении ударов РФ по инфр...</td>\n      <td>Постпред при ООН Небензя: Россия продолжит н...</td>\n      <td>https://iz.ru/1436715/2022-12-06/nebenzia-zaia...</td>\n      <td>0</td>\n      <td>0</td>\n      <td>0</td>\n      <td>0</td>\n      <td>0</td>\n    </tr>\n    <tr>\n      <th>1</th>\n      <td>06.12.2022 22:00</td>\n      <td>Москва 24 (m24.ru)</td>\n      <td>Европа оказалась во власти погоды и собственны...</td>\n      <td>...</td>\n      <td>https://www.m24.ru/videos/za-rubezhom/06122022...</td>\n      <td>0</td>\n      <td>0</td>\n      <td>0</td>\n      <td>0</td>\n      <td>0</td>\n    </tr>\n    <tr>\n      <th>2</th>\n      <td>06.12.2022 21:45</td>\n      <td>Деловой Ейск (deleysk.ru)</td>\n      <td>Отключение электроэнергии!</td>\n      <td>В связи с чисткой трассы от ветвей деревьев...</td>\n      <td>http://www.deleysk.ru/news/21042</td>\n      <td>0</td>\n      <td>0</td>\n      <td>0</td>\n      <td>0</td>\n      <td>0</td>\n    </tr>\n    <tr>\n      <th>3</th>\n      <td>06.12.2022 21:22</td>\n      <td>ИА Высота 102 (v102.ru)</td>\n      <td>В пяти районах Волгограда 7 декабря отключат свет</td>\n      <td>Плановые отключения э...</td>\n      <td>https://v102.ru/news/113890.html</td>\n      <td>0</td>\n      <td>0</td>\n      <td>0</td>\n      <td>0</td>\n      <td>0</td>\n    </tr>\n    <tr>\n      <th>4</th>\n      <td>06.12.2022 21:12</td>\n      <td>Блокнот (bloknot-novorossiysk.ru). Новороссийск</td>\n      <td>Южный, Центральный районы и пригород: новоросс...</td>\n      <td>7 декабря подачу электричества ...</td>\n      <td>https://bloknot-novorossiysk.ru/news/yuzhnyy-t...</td>\n      <td>0</td>\n      <td>0</td>\n      <td>0</td>\n      <td>0</td>\n      <td>0</td>\n    </tr>\n    <tr>\n      <th>...</th>\n      <td>...</td>\n      <td>...</td>\n      <td>...</td>\n      <td>...</td>\n      <td>...</td>\n      <td>...</td>\n      <td>...</td>\n      <td>...</td>\n      <td>...</td>\n      <td>...</td>\n    </tr>\n    <tr>\n      <th>219</th>\n      <td>05.12.2022 02:33</td>\n      <td>N4K.com</td>\n      <td>Прояснилась нынешняя обстановка в Херсоне на с...</td>\n      <td>После того, как российская армия покинула...</td>\n      <td>https://n4k.ru/2022/12/05/projasnilas-nyneshnj...</td>\n      <td>0</td>\n      <td>0</td>\n      <td>0</td>\n      <td>0</td>\n      <td>0</td>\n    </tr>\n    <tr>\n      <th>220</th>\n      <td>05.12.2022 01:31</td>\n      <td>СочиСтрим (sochistream.ru)</td>\n      <td>В Краснодаре жители нескольких улиц из-за энер...</td>\n      <td>Поздно вечером 4 декабря в Прикубанском окр...</td>\n      <td>https://sochistream.ru/novosti/proishestviya/v...</td>\n      <td>1</td>\n      <td>отключение электроэнергия</td>\n      <td>сочи,краснодар</td>\n      <td></td>\n      <td>[]</td>\n    </tr>\n    <tr>\n      <th>221</th>\n      <td>05.12.2022 01:00</td>\n      <td>Путь Октября (put-okt.com)</td>\n      <td>Владимир Путин встретился с молодыми учеными в...</td>\n      <td>В парке науки и искусства \"Сириус\" в Сочи Вл...</td>\n      <td>https://put-okt.com/articles/eto-interesno/202...</td>\n      <td>0</td>\n      <td>0</td>\n      <td>0</td>\n      <td>0</td>\n      <td>0</td>\n    </tr>\n    <tr>\n      <th>222</th>\n      <td>05.12.2022 00:01</td>\n      <td>Ритм Евразии (ritmeurasia.org)</td>\n      <td>Проблемы возобновляемых источников энергии в ЕАЭС</td>\n      <td>В мире обостряется спор сторонников д...</td>\n      <td>https://www.ritmeurasia.org/news--2022-12-05--...</td>\n      <td>0</td>\n      <td>0</td>\n      <td>0</td>\n      <td>0</td>\n      <td>0</td>\n    </tr>\n    <tr>\n      <th>223</th>\n      <td>05.12.2022 00:00</td>\n      <td>Русские Онлайн (rusonline.org)</td>\n      <td>Настал переломный момент: Осознав что произошл...</td>\n      <td>Да, и это заметно. В первую очередь это...</td>\n      <td>https://rusonline.org/ukraine/nastal-perelomny...</td>\n      <td>0</td>\n      <td>0</td>\n      <td>0</td>\n      <td>0</td>\n      <td>0</td>\n    </tr>\n  </tbody>\n</table>\n<p>224 rows × 10 columns</p>\n</div>"
     },
     "execution_count": 26,
     "metadata": {},
     "output_type": "execute_result"
    }
   ],
   "source": [
    "# Скачиваем данные\n",
    "df_texts0 = pd.read_excel('Входные данные/Тексты.xlsx')\n",
    "df_key_words = pd.read_excel('Входные данные/Список_населенных_пунктов.xlsx')\n",
    "\n",
    "# Выявление сообщений с ключевыми словами и городами\n",
    "text_cheсk_df = text_cheсk(df_with_text=df_texts0, text_column_name='Выдержки из текста',\n",
    "                           all_key_words=lemm_finder(list(df_key_words['Тип_проблемы'].dropna())),\n",
    "                           cities_list=cities_list_new,\n",
    "                           russian_cities_list=russian_cities_list, check_cities_list=check_cities_list)\n",
    "# Блок Тимофея\n",
    "image_names = os.listdir(f'Скриншоты/{Date}')\n",
    "result_column = {}\n",
    "for image_name in image_names:\n",
    "    image_colors = get_image_colors(image_name)\n",
    "    zone_name = get_zone_name(image_colors)\n",
    "    result_column[image_name.lower()[:-4]] = zone_name\n",
    "\n",
    "text_cheсk_df['territory_status'] = get_territory_status(list(text_cheсk_df['checked_cities']), result_column)\n",
    "\n",
    "text_cheсk_df_final = text_cheсk_df[['Дата', 'Источник', 'Заголовок', 'Выдержки из текста', 'Ссылка на источник',\n",
    "                                     'contain_key_words', 'problem_type', 'russian_cities','checked_cities',\n",
    "                                     'territory_status']]\n",
    "text_cheсk_df_final"
   ],
   "metadata": {
    "collapsed": false,
    "pycharm": {
     "name": "#%%\n"
    }
   }
  },
  {
   "cell_type": "markdown",
   "source": [
    "# Дополнительная разовая предобработка"
   ],
   "metadata": {
    "collapsed": false,
    "pycharm": {
     "name": "#%% md\n"
    }
   }
  },
  {
   "cell_type": "code",
   "execution_count": 97,
   "outputs": [
    {
     "data": {
      "text/plain": "  0%|          | 0/2519 [00:00<?, ?it/s]",
      "application/vnd.jupyter.widget-view+json": {
       "version_major": 2,
       "version_minor": 0,
       "model_id": "db3c40038a324d9da0382248770f4840"
      }
     },
     "metadata": {},
     "output_type": "display_data"
    },
    {
     "data": {
      "text/plain": "  0%|          | 0/2414 [00:00<?, ?it/s]",
      "application/vnd.jupyter.widget-view+json": {
       "version_major": 2,
       "version_minor": 0,
       "model_id": "b37cabe45897463a8cf9cd1218b9c9c5"
      }
     },
     "metadata": {},
     "output_type": "display_data"
    },
    {
     "data": {
      "text/plain": "  0%|          | 0/89 [00:00<?, ?it/s]",
      "application/vnd.jupyter.widget-view+json": {
       "version_major": 2,
       "version_minor": 0,
       "model_id": "17f9e9fed400403b8ced7e10852d72a2"
      }
     },
     "metadata": {},
     "output_type": "display_data"
    },
    {
     "data": {
      "text/plain": "  0%|          | 0/2414 [00:00<?, ?it/s]",
      "application/vnd.jupyter.widget-view+json": {
       "version_major": 2,
       "version_minor": 0,
       "model_id": "b3e17a16cefc424d9d411151651ec3a5"
      }
     },
     "metadata": {},
     "output_type": "display_data"
    }
   ],
   "source": [
    "from collections import Counter\n",
    "\n",
    "# Скачиваем список адресов\n",
    "all_locations_df0 = pd.read_csv('регионы.csv')\n",
    "# Подсчитаем самые часто встречающиеся слова\n",
    "all_locations_list = []\n",
    "for i in tqdm([a.split() for a in list(set(all_locations_df0['name_area']))]):\n",
    "    all_locations_list = all_locations_list + i\n",
    "# Подсчитаем самые часто встречающиеся слова\n",
    "df = pd.DataFrame(list(Counter(all_locations_list).items()), columns=['name', 'count']).sort_values(by='count',\n",
    "                                                                                                    ascending=False)\n",
    "# Добавим столбец с названиями без  город, село и тд\n",
    "all_locations_df0['name_area_new'] = all_locations_df0['name_area']\n",
    "for word in df[df['count'] >= 20]['name']:\n",
    "    all_locations_df0['name_area_new'] = all_locations_df0['name_area_new'].apply(lambda x: x.replace(f'{word}', ''))\n",
    "# Удалим дубликаты\n",
    "all_locations_df0 = all_locations_df0.drop_duplicates(subset=['name_area_new'])\n",
    "all_locations_df0['name_area_new'] = lemm_finder(list(all_locations_df0['name_area_new']))\n",
    "\n",
    "# Подсчитаем самые часто встречающиеся слова\n",
    "all_region_list = []\n",
    "for i in tqdm([a.split() for a in list(set(all_locations_df0['region_name']))]):\n",
    "    all_region_list = all_region_list + i\n",
    "# Подсчитаем самые часто встречающиеся слова\n",
    "df1 = pd.DataFrame(list(Counter(all_region_list).items()), columns=['name', 'count']).sort_values(by='count',\n",
    "                                                                                                  ascending=False)\n",
    "# Добавим столбец с названиями без  город, село и тд\n",
    "all_locations_df0['region_name_new'] = all_locations_df0['region_name']\n",
    "for word in df1[df1['count'] >= 2]['name']:\n",
    "    all_locations_df0['region_name_new'] = all_locations_df0['region_name_new'].apply(\n",
    "        lambda x: x.replace(f'{word}', ''))\n",
    "# леменизируем\n",
    "all_locations_df0['region_name_new'] = lemm_finder(list(all_locations_df0['region_name_new']))\n",
    "all_locations_df0.to_excel('our_list_of_geobjects.xlsx')"
   ],
   "metadata": {
    "collapsed": false,
    "pycharm": {
     "name": "#%%\n"
    }
   }
  },
  {
   "cell_type": "code",
   "execution_count": null,
   "outputs": [],
   "source": [],
   "metadata": {
    "collapsed": false,
    "pycharm": {
     "name": "#%%\n"
    }
   }
  }
 ],
 "metadata": {
  "kernelspec": {
   "display_name": "Python 3 (ipykernel)",
   "language": "python",
   "name": "python3"
  },
  "language_info": {
   "codemirror_mode": {
    "name": "ipython",
    "version": 3
   },
   "file_extension": ".py",
   "mimetype": "text/x-python",
   "name": "python",
   "nbconvert_exporter": "python",
   "pygments_lexer": "ipython3",
   "version": "3.9.12"
  },
  "toc": {
   "base_numbering": 1,
   "nav_menu": {},
   "number_sections": true,
   "sideBar": true,
   "skip_h1_title": false,
   "title_cell": "Table of Contents",
   "title_sidebar": "Contents",
   "toc_cell": false,
   "toc_position": {},
   "toc_section_display": true,
   "toc_window_display": false
  },
  "varInspector": {
   "cols": {
    "lenName": 16,
    "lenType": 16,
    "lenVar": 40
   },
   "kernels_config": {
    "python": {
     "delete_cmd_postfix": "",
     "delete_cmd_prefix": "del ",
     "library": "var_list.py",
     "varRefreshCmd": "print(var_dic_list())"
    },
    "r": {
     "delete_cmd_postfix": ") ",
     "delete_cmd_prefix": "rm(",
     "library": "var_list.r",
     "varRefreshCmd": "cat(var_dic_list()) "
    }
   },
   "types_to_exclude": [
    "module",
    "function",
    "builtin_function_or_method",
    "instance",
    "_Feature"
   ],
   "window_display": false
  }
 },
 "nbformat": 4,
 "nbformat_minor": 5
}