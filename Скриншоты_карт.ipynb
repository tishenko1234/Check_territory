{
 "cells": [
  {
   "cell_type": "code",
   "execution_count": 4,
   "id": "19a1bb8b",
   "metadata": {
    "pycharm": {
     "name": "#%%\n"
    }
   },
   "outputs": [],
   "source": [
    "from selenium.webdriver.common.by import By\n",
    "from tqdm.auto import tqdm\n",
    "from selenium import webdriver\n",
    "from selenium.webdriver.chrome.options import Options\n",
    "import time\n",
    "import pandas as pd\n",
    "import os\n",
    "import re\n",
    "import spacy\n",
    "import datetime\n",
    "from selenium.webdriver.support.wait import WebDriverWait\n",
    "from selenium.common.exceptions import TimeoutException\n",
    "from selenium.webdriver.support import expected_conditions as EC\n",
    "import itertools"
   ]
  },
  {
   "cell_type": "code",
   "execution_count": 5,
   "outputs": [],
   "source": [
    "# Если не с качивается модель, то попробовать вот так\n",
    "# !pip install spacy\n",
    "# !pip install https://github.com/explosion/spacy-models/releases/download/ru_core_news_sm-3.4.0/ru_core_news_sm-3.4.0.tar.gz\n",
    "# скачивание модели на локальный диск\n",
    "# nlp.to_disk('ru_core_news_sm-3.4.0')\n",
    "# nlp = spacy.load('ru_core_news_sm-3.4.0')\n",
    "# pip freeze > requirements.txt"
   ],
   "metadata": {
    "collapsed": false,
    "pycharm": {
     "name": "#%%\n"
    }
   }
  },
  {
   "cell_type": "markdown",
   "source": [
    "# Функции"
   ],
   "metadata": {
    "collapsed": false,
    "pycharm": {
     "name": "#%% md\n"
    }
   }
  },
  {
   "cell_type": "code",
   "execution_count": 6,
   "outputs": [],
   "source": [
    "def lemm_finder(list_of_text, stop_words=0):\n",
    "    \"\"\" Функция позволяет перевети все формы слова в леммы\"\"\"\n",
    "    lemma_list = []\n",
    "    for i in tqdm(list_of_text):\n",
    "        text = ' '.join(re.findall(r'[А-Яа-я]+', i))\n",
    "        doc = nlp(text)\n",
    "        lemma = []\n",
    "        for token in doc:\n",
    "            lemma.append(token.lemma_)\n",
    "        text_new = ' '.join(lemma)\n",
    "        if stop_words != 0:\n",
    "            for j in stop_words:\n",
    "                text_new = re.sub(rf'( {j}\\b)', '', text_new)\n",
    "        lemma_list.append(text_new)\n",
    "    return lemma_list\n",
    "\n",
    "\n",
    "def test_page(driver, delay, element):\n",
    "    '''Функция проверки загрузки страницы\n",
    "        delay - количесво секунд ожидания\n",
    "        element - что ищем пример (By.CLASS_NAME, 'popup-obj')\n",
    "        driver - драйвер пример\n",
    "        if __name__ == \"__main__\":\n",
    "        driver = Chrome(executable_path=\"./chromedriver.exe\")'''\n",
    "    # проверка загрузилась ли стр\n",
    "    try:\n",
    "        myElem = WebDriverWait(driver, delay).until(\n",
    "            EC.presence_of_element_located(\n",
    "                element))\n",
    "    except TimeoutException:\n",
    "        print(\"Loading took too much time!\")\n",
    "\n",
    "\n",
    "# запускае браузер\n",
    "def get_screens(city_list, url='https://lostarmour.info/map/?ysclid=latojsz8nr362636823)', Date='29_11_22'):\n",
    "    # Настрока и запуск браузера\n",
    "    options = Options()\n",
    "    options.page_load_strategy = 'normal'\n",
    "    driver = webdriver.Chrome(executable_path=\"./chromedriver.exe\", options=options)\n",
    "    # Переход на сайт\n",
    "    driver.get(url)\n",
    "    # Переключаемся на iframe\n",
    "    driver.switch_to.frame(driver.find_element(By.TAG_NAME, \"iframe\"))\n",
    "    window_before = driver.window_handles[0]\n",
    "    # Переходим на страницу яндекс карт\n",
    "    try:\n",
    "        driver.find_element(By.XPATH,\n",
    "                            \"/html/body/div/div/div/div[2]/div[1]/div[1]/div[4]/div/a\").click()\n",
    "    except:\n",
    "        driver.find_element(By.XPATH,\n",
    "                            \"/html/body/div/div/div/div[2]/div[1]/div[1]/div[4]/div/a\").click()\n",
    "    window_after = driver.window_handles[1]\n",
    "    # Переключаемся обратно\n",
    "    driver.switch_to.default_content()\n",
    "    driver.switch_to.window(window_after)\n",
    "    # Экран в полный формат\n",
    "    driver.fullscreen_window()\n",
    "\n",
    "    for city in tqdm(city_list):\n",
    "        try:\n",
    "            # Ввод тектса\n",
    "            driver.find_element(By.TAG_NAME, \"input\").send_keys(city)\n",
    "            # Нажать на ввод поиска\n",
    "            driver.find_element(By.TAG_NAME, \"button\").click()\n",
    "            # Цикл для зума\n",
    "            for i in range(10):\n",
    "                time.sleep(0.1)\n",
    "                # Нажать на кнопку приближения\n",
    "                driver.find_element(By.CLASS_NAME, \"zoom-control__zoom-in\").click()\n",
    "            # Проверяем загрузился ли элемент\n",
    "            test_page(driver=driver, delay=3,\n",
    "                      element=(By.XPATH,\n",
    "                               \"//span[@class='inline-image _loaded sidebar-toggle-button__icon']\"))\n",
    "            time.sleep(1)\n",
    "            # Нажать на кнопку для того, чтобы убрать поиск\n",
    "            driver.find_element(\n",
    "                By.XPATH,\n",
    "                \"//span[@class='inline-image _loaded sidebar-toggle-button__icon']\").click()\n",
    "            # Создаем папку для фото\n",
    "            if not os.path.exists(f\"Скриншоты/{Date}\"):\n",
    "                os.mkdir(f\"Скриншоты/{Date}\")\n",
    "\n",
    "            # Делаем скриншот\n",
    "            driver.save_screenshot(f'Скриншоты/{Date}/{city}.png')\n",
    "            # Отчистить поле поиска нажав кнопку\n",
    "            driver.find_element(\n",
    "                By.XPATH,\n",
    "                \"//div[@class='small-search-form-view__icon _type_close']\").click()\n",
    "        except:\n",
    "            print(f'Проблема с городом {city}')\n",
    "            continue\n",
    "    driver.quit()\n",
    "\n",
    "\n",
    "def find_words(key_words, text):\n",
    "    \"\"\"Проверяет есть ли слова в списке текстов, если есть, то возвращает их, если нет то\n",
    "    возвращает 0\"\"\"\n",
    "    find_list = []\n",
    "    for i in key_words:\n",
    "        if len(re.findall(rf'{i}', text)) != 0:\n",
    "            find_list = find_list + re.findall(rf'{i}', text)\n",
    "    find_list = ', '.join(find_list)\n",
    "    return find_list\n",
    "\n",
    "\n",
    "def find_distance(sentence, word1, word2):\n",
    "    \"\"\"Находит колличесво слов между двумя словами в тексте\"\"\"\n",
    "    distances = []\n",
    "    while sentence != \"\":\n",
    "        _, _, sentence = sentence.partition(word1)\n",
    "        text, _, _ = sentence.partition(word2)\n",
    "        if text != \"\":\n",
    "            distances.append(len(text.split()))\n",
    "    return distances\n",
    "\n",
    "def text_cheсk(df_with_text, text_column_name, all_key_words, cities_list):\n",
    "    \"\"\"определеяет в каких текстах есть ключивые слова (пересечение городов и проблеммы)\"\"\"\n",
    "    df_texts = df_with_text.copy()\n",
    "    # Выделяем леммы\n",
    "    new_text_list = lemm_finder(list_of_text=list(df_texts[text_column_name]))\n",
    "    # Проверяем тексты на ключевые слова\n",
    "    df_texts[\"New_text\"] = new_text_list\n",
    "    df_texts[\"Contains_key_words\"] = df_texts['New_text'].str.contains('|'.join(all_key_words)).astype(int)\n",
    "    df_texts[\"Contains_cities_list\"] = df_texts['New_text'].str.contains('|'.join(cities_list)).astype(int)\n",
    "\n",
    "    # Разделяем ключевые словосочетания на слова\n",
    "    all_key_words_split = []\n",
    "    for i in all_key_words:\n",
    "        all_key_words_split = all_key_words_split + i.split()\n",
    "    all_key_words_split = list(set(all_key_words_split))\n",
    "    # Формируем все возможные комбинации названий городов и ключевых слов\n",
    "    a = [cities_list,all_key_words_split]\n",
    "    all_combinations = list(itertools.product(*a))\n",
    "\n",
    "    good_index = []\n",
    "    for text_index in df_texts.index:\n",
    "        for iteration in range(len(all_combinations)):\n",
    "            try :\n",
    "                word_distance = find_distance(df_texts.loc[text_index]['New_text'], all_combinations[iteration][0], all_combinations[iteration][1])[0]\n",
    "                if word_distance <= 20:\n",
    "                    good_index.append(text_index)\n",
    "            except:\n",
    "                continue\n",
    "    good_index = set(good_index)\n",
    "    df_texts[\"Contains_20_words_length\"] = [ 1 if a in good_index else 0  for a in df_texts.index]\n",
    "    df_texts[\"Contains_sum\"] = df_texts[\"Contains_cities_list\"] + df_texts[\"Contains_key_words\"] + df_texts[\"Contains_20_words_length\"]\n",
    "    df_with_text['contain_key_words'] = contain_key_words_list = [1 if a == 3 else 0 for a in df_texts[\"Contains_sum\"]]\n",
    "    df_with_text['key_words_find'] = [\n",
    "        find_words(all_key_words + cities_list, df_texts.loc[index]['New_text']) if df_texts.loc[index][\n",
    "                                                                                        'Contains_sum'] == 3 else 0 for\n",
    "        index in df_texts.index]\n",
    "    return df_with_text"
   ],
   "metadata": {
    "collapsed": false,
    "pycharm": {
     "name": "#%%\n"
    }
   }
  },
  {
   "cell_type": "markdown",
   "source": [
    "# Код"
   ],
   "metadata": {
    "collapsed": false,
    "pycharm": {
     "name": "#%% md\n"
    }
   }
  },
  {
   "cell_type": "code",
   "execution_count": 7,
   "outputs": [
    {
     "name": "stderr",
     "output_type": "stream",
     "text": [
      "/var/folders/pt/rpf8lgcj6zjc0wsmcg9jyy6r0000gn/T/ipykernel_5279/1331623.py:39: DeprecationWarning: executable_path has been deprecated, please pass in a Service object\n",
      "  driver = webdriver.Chrome(executable_path=\"./chromedriver.exe\", options=options)\n"
     ]
    },
    {
     "data": {
      "text/plain": "  0%|          | 0/29 [00:00<?, ?it/s]",
      "application/vnd.jupyter.widget-view+json": {
       "version_major": 2,
       "version_minor": 0,
       "model_id": "7b5060f4551e4a1eb1869844f545ff6f"
      }
     },
     "metadata": {},
     "output_type": "display_data"
    },
    {
     "name": "stdout",
     "output_type": "stream",
     "text": [
      "Проблема с городом Мариуполь\n",
      "Проблема с городом Славянск\n",
      "Проблема с городом Горловка\n",
      "Проблема с городом Ясиноватая\n",
      "Проблема с городом Угледар\n",
      "Проблема с городом Запорожье\n",
      "Проблема с городом Энергодар\n",
      "Проблема с городом Краснодар\n",
      "Проблема с городом Новороссийск\n",
      "Проблема с городом Сочи\n",
      "Проблема с городом Анапа\n",
      "Проблема с городом Курск\n",
      "Проблема с городом Белгород\n"
     ]
    }
   ],
   "source": [
    "# Определяем сегодняшнюю дату\n",
    "now = datetime.datetime.now()\n",
    "Date = now.strftime(\"%d_%m_%Y\")\n",
    "# собираем лист название городов\n",
    "df_cities = pd.read_excel('Входные данные/Список_населенных_пунктов.xlsx')\n",
    "cities_list = df_cities['Населенные_пункты'].dropna()\n",
    "get_screens(city_list=cities_list, url='https://lostarmour.info/map/?ysclid=latojsz8nr362636823)', Date=Date)"
   ],
   "metadata": {
    "collapsed": false,
    "pycharm": {
     "name": "#%%\n"
    }
   }
  },
  {
   "cell_type": "code",
   "execution_count": 162,
   "outputs": [],
   "source": [
    "#  Блок Тимофея\n",
    "#russian_regions = ['крым', 'симферополь', 'севастополь', 'краснодарский край', 'сочи', 'белгород',\n",
    "#                    'белгородская область', 'ростов', 'ростовская область', 'курская область', 'брянская область']"
   ],
   "metadata": {
    "collapsed": false,
    "pycharm": {
     "name": "#%%\n"
    }
   }
  },
  {
   "cell_type": "code",
   "execution_count": 8,
   "outputs": [
    {
     "data": {
      "text/plain": "  0%|          | 0/29 [00:00<?, ?it/s]",
      "application/vnd.jupyter.widget-view+json": {
       "version_major": 2,
       "version_minor": 0,
       "model_id": "8efeda4638dc4ee5ab681174790cde48"
      }
     },
     "metadata": {},
     "output_type": "display_data"
    },
    {
     "data": {
      "text/plain": "  0%|          | 0/18 [00:00<?, ?it/s]",
      "application/vnd.jupyter.widget-view+json": {
       "version_major": 2,
       "version_minor": 0,
       "model_id": "a5e4f10c74104b239b04d7ad6bf510c2"
      }
     },
     "metadata": {},
     "output_type": "display_data"
    },
    {
     "data": {
      "text/plain": "  0%|          | 0/109 [00:00<?, ?it/s]",
      "application/vnd.jupyter.widget-view+json": {
       "version_major": 2,
       "version_minor": 0,
       "model_id": "4ce8109f62994df087b6d87fe54ca8dd"
      }
     },
     "metadata": {},
     "output_type": "display_data"
    },
    {
     "ename": "NameError",
     "evalue": "name 'itertools' is not defined",
     "output_type": "error",
     "traceback": [
      "\u001B[0;31m---------------------------------------------------------------------------\u001B[0m",
      "\u001B[0;31mNameError\u001B[0m                                 Traceback (most recent call last)",
      "Cell \u001B[0;32mIn [8], line 10\u001B[0m\n\u001B[1;32m      7\u001B[0m cities_list \u001B[38;5;241m=\u001B[39m lemm_finder(\u001B[38;5;28mlist\u001B[39m(df_cities[\u001B[38;5;124m'\u001B[39m\u001B[38;5;124mНаселенные_пункты\u001B[39m\u001B[38;5;124m'\u001B[39m]\u001B[38;5;241m.\u001B[39mdropna()), stop_words\u001B[38;5;241m=\u001B[39m[\u001B[38;5;124m'\u001B[39m\u001B[38;5;124mобласть\u001B[39m\u001B[38;5;124m'\u001B[39m, \u001B[38;5;124m'\u001B[39m\u001B[38;5;124mобл\u001B[39m\u001B[38;5;124m'\u001B[39m, \u001B[38;5;124m'\u001B[39m\u001B[38;5;124mкрай\u001B[39m\u001B[38;5;124m'\u001B[39m, \u001B[38;5;124m'\u001B[39m\u001B[38;5;124mобл.\u001B[39m\u001B[38;5;124m'\u001B[39m])\n\u001B[1;32m      9\u001B[0m \u001B[38;5;66;03m# Выявление сообщений с ключевыми словами и городами\u001B[39;00m\n\u001B[0;32m---> 10\u001B[0m \u001B[43mtext_cheсk\u001B[49m\u001B[43m(\u001B[49m\u001B[43mdf_with_text\u001B[49m\u001B[38;5;241;43m=\u001B[39;49m\u001B[43mdf_texts0\u001B[49m\u001B[43m,\u001B[49m\u001B[43m \u001B[49m\u001B[43mtext_column_name\u001B[49m\u001B[38;5;241;43m=\u001B[39;49m\u001B[38;5;124;43m'\u001B[39;49m\u001B[38;5;124;43mВыдержки из текста\u001B[39;49m\u001B[38;5;124;43m'\u001B[39;49m\u001B[43m,\u001B[49m\n\u001B[1;32m     11\u001B[0m \u001B[43m           \u001B[49m\u001B[43mall_key_words\u001B[49m\u001B[38;5;241;43m=\u001B[39;49m\u001B[43mlemm_finder\u001B[49m\u001B[43m(\u001B[49m\u001B[38;5;28;43mlist\u001B[39;49m\u001B[43m(\u001B[49m\u001B[43mdf_cities\u001B[49m\u001B[43m[\u001B[49m\u001B[38;5;124;43m'\u001B[39;49m\u001B[38;5;124;43mТип_проблемы\u001B[39;49m\u001B[38;5;124;43m'\u001B[39;49m\u001B[43m]\u001B[49m\u001B[38;5;241;43m.\u001B[39;49m\u001B[43mdropna\u001B[49m\u001B[43m(\u001B[49m\u001B[43m)\u001B[49m\u001B[43m)\u001B[49m\u001B[43m)\u001B[49m\u001B[43m,\u001B[49m\u001B[43m \u001B[49m\u001B[43mcities_list\u001B[49m\u001B[38;5;241;43m=\u001B[39;49m\u001B[43mcities_list\u001B[49m\u001B[43m)\u001B[49m\u001B[38;5;241m.\u001B[39mto_excel(\n\u001B[1;32m     12\u001B[0m     \u001B[38;5;124mf\u001B[39m\u001B[38;5;124m'\u001B[39m\u001B[38;5;124mРезультат_обработки/\u001B[39m\u001B[38;5;132;01m{\u001B[39;00mDate\u001B[38;5;132;01m}\u001B[39;00m\u001B[38;5;124m.xlsx\u001B[39m\u001B[38;5;124m'\u001B[39m)\n",
      "Cell \u001B[0;32mIn [6], line 133\u001B[0m, in \u001B[0;36mtext_cheсk\u001B[0;34m(df_with_text, text_column_name, all_key_words, cities_list)\u001B[0m\n\u001B[1;32m    131\u001B[0m \u001B[38;5;66;03m# Формируем все возможные комбинации названий городов и ключевых слов\u001B[39;00m\n\u001B[1;32m    132\u001B[0m a \u001B[38;5;241m=\u001B[39m [cities_list,all_key_words_split]\n\u001B[0;32m--> 133\u001B[0m all_combinations \u001B[38;5;241m=\u001B[39m \u001B[38;5;28mlist\u001B[39m(\u001B[43mitertools\u001B[49m\u001B[38;5;241m.\u001B[39mproduct(\u001B[38;5;241m*\u001B[39ma))\n\u001B[1;32m    135\u001B[0m good_index \u001B[38;5;241m=\u001B[39m []\n\u001B[1;32m    136\u001B[0m \u001B[38;5;28;01mfor\u001B[39;00m text_index \u001B[38;5;129;01min\u001B[39;00m df_texts\u001B[38;5;241m.\u001B[39mindex:\n",
      "\u001B[0;31mNameError\u001B[0m: name 'itertools' is not defined"
     ]
    }
   ],
   "source": [
    "# Скачиваем данные\n",
    "df_texts0 = pd.read_excel('Входные данные/Тексты.xlsx')\n",
    "# Загружаем модель для обработки русского текста\n",
    "nlp = spacy.load('ru_core_news_sm-3.4.0')\n",
    "df_cities = pd.read_excel('Входные данные/Список_населенных_пунктов.xlsx')\n",
    "# собираем лист название городов\n",
    "cities_list = lemm_finder(list(df_cities['Населенные_пункты'].dropna()), stop_words=['область', 'обл', 'край', 'обл.'])\n",
    "\n",
    "# Выявление сообщений с ключевыми словами и городами\n",
    "text_cheсk(df_with_text=df_texts0, text_column_name='Выдержки из текста',\n",
    "           all_key_words=lemm_finder(list(df_cities['Тип_проблемы'].dropna())), cities_list=cities_list).to_excel(\n",
    "    f'Результат_обработки/{Date}.xlsx')\n"
   ],
   "metadata": {
    "collapsed": false,
    "pycharm": {
     "name": "#%%\n"
    }
   }
  },
  {
   "cell_type": "code",
   "execution_count": null,
   "outputs": [],
   "source": [],
   "metadata": {
    "collapsed": false,
    "pycharm": {
     "name": "#%%\n"
    }
   }
  },
  {
   "cell_type": "code",
   "execution_count": null,
   "outputs": [],
   "source": [],
   "metadata": {
    "collapsed": false,
    "pycharm": {
     "name": "#%%\n"
    }
   }
  }
 ],
 "metadata": {
  "kernelspec": {
   "display_name": "Python 3 (ipykernel)",
   "language": "python",
   "name": "python3"
  },
  "language_info": {
   "codemirror_mode": {
    "name": "ipython",
    "version": 3
   },
   "file_extension": ".py",
   "mimetype": "text/x-python",
   "name": "python",
   "nbconvert_exporter": "python",
   "pygments_lexer": "ipython3",
   "version": "3.9.12"
  },
  "toc": {
   "base_numbering": 1,
   "nav_menu": {},
   "number_sections": true,
   "sideBar": true,
   "skip_h1_title": false,
   "title_cell": "Table of Contents",
   "title_sidebar": "Contents",
   "toc_cell": false,
   "toc_position": {},
   "toc_section_display": true,
   "toc_window_display": false
  },
  "varInspector": {
   "cols": {
    "lenName": 16,
    "lenType": 16,
    "lenVar": 40
   },
   "kernels_config": {
    "python": {
     "delete_cmd_postfix": "",
     "delete_cmd_prefix": "del ",
     "library": "var_list.py",
     "varRefreshCmd": "print(var_dic_list())"
    },
    "r": {
     "delete_cmd_postfix": ") ",
     "delete_cmd_prefix": "rm(",
     "library": "var_list.r",
     "varRefreshCmd": "cat(var_dic_list()) "
    }
   },
   "types_to_exclude": [
    "module",
    "function",
    "builtin_function_or_method",
    "instance",
    "_Feature"
   ],
   "window_display": false
  }
 },
 "nbformat": 4,
 "nbformat_minor": 5
}