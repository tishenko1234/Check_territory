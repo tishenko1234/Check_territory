{
 "cells": [
  {
   "cell_type": "code",
   "execution_count": 18,
   "id": "19a1bb8b",
   "metadata": {
    "pycharm": {
     "name": "#%%\n"
    }
   },
   "outputs": [],
   "source": [
    "from selenium.webdriver.common.by import By\n",
    "from tqdm.auto import tqdm\n",
    "from selenium import webdriver\n",
    "from selenium.webdriver.chrome.options import Options\n",
    "import time\n",
    "import pandas as pd\n",
    "import os\n",
    "import re\n",
    "import spacy\n",
    "import datetime\n",
    "from selenium.webdriver.support.wait import WebDriverWait\n",
    "from selenium.common.exceptions import TimeoutException\n",
    "from selenium.webdriver.support import expected_conditions as EC\n",
    "import itertools"
   ]
  },
  {
   "cell_type": "code",
   "execution_count": 5,
   "outputs": [],
   "source": [
    "# Если не с качивается модель, то попробовать вот так\n",
    "# !pip install spacy\n",
    "# !pip install https://github.com/explosion/spacy-models/releases/download/ru_core_news_sm-3.4.0/ru_core_news_sm-3.4.0.tar.gz\n",
    "# скачивание модели на локальный диск\n",
    "# nlp.to_disk('ru_core_news_sm-3.4.0')\n",
    "# nlp = spacy.load('ru_core_news_sm-3.4.0')\n",
    "# pip freeze > requirements.txt"
   ],
   "metadata": {
    "collapsed": false,
    "pycharm": {
     "name": "#%%\n"
    }
   }
  },
  {
   "cell_type": "markdown",
   "source": [
    "# Функции"
   ],
   "metadata": {
    "collapsed": false,
    "pycharm": {
     "name": "#%% md\n"
    }
   }
  },
  {
   "cell_type": "code",
   "execution_count": 6,
   "outputs": [],
   "source": [
    "def lemm_finder(list_of_text, stop_words=0):\n",
    "    \"\"\" Функция позволяет перевети все формы слова в леммы\"\"\"\n",
    "    lemma_list = []\n",
    "    for i in tqdm(list_of_text):\n",
    "        text = ' '.join(re.findall(r'[А-Яа-я]+', i))\n",
    "        doc = nlp(text)\n",
    "        lemma = []\n",
    "        for token in doc:\n",
    "            lemma.append(token.lemma_)\n",
    "        text_new = ' '.join(lemma)\n",
    "        if stop_words != 0:\n",
    "            for j in stop_words:\n",
    "                text_new = re.sub(rf'( {j}\\b)', '', text_new)\n",
    "        lemma_list.append(text_new)\n",
    "    return lemma_list\n",
    "\n",
    "\n",
    "def test_page(driver, delay, element):\n",
    "    '''Функция проверки загрузки страницы\n",
    "        delay - количесво секунд ожидания\n",
    "        element - что ищем пример (By.CLASS_NAME, 'popup-obj')\n",
    "        driver - драйвер пример\n",
    "        if __name__ == \"__main__\":\n",
    "        driver = Chrome(executable_path=\"./chromedriver.exe\")'''\n",
    "    # проверка загрузилась ли стр\n",
    "    try:\n",
    "        myElem = WebDriverWait(driver, delay).until(\n",
    "            EC.presence_of_element_located(\n",
    "                element))\n",
    "    except TimeoutException:\n",
    "        print(\"Loading took too much time!\")\n",
    "\n",
    "\n",
    "# запускае браузер\n",
    "def get_screens(city_list, url='https://lostarmour.info/map/?ysclid=latojsz8nr362636823)', Date='29_11_22'):\n",
    "    # Настрока и запуск браузера\n",
    "    options = Options()\n",
    "    options.page_load_strategy = 'normal'\n",
    "    driver = webdriver.Chrome(executable_path=\"./chromedriver.exe\", options=options)\n",
    "    # Переход на сайт\n",
    "    driver.get(url)\n",
    "    # Переключаемся на iframe\n",
    "    driver.switch_to.frame(driver.find_element(By.TAG_NAME, \"iframe\"))\n",
    "    window_before = driver.window_handles[0]\n",
    "    # Переходим на страницу яндекс карт\n",
    "    try:\n",
    "        driver.find_element(By.XPATH,\n",
    "                            \"/html/body/div/div/div/div[2]/div[1]/div[1]/div[4]/div/a\").click()\n",
    "    except:\n",
    "        driver.find_element(By.XPATH,\n",
    "                            \"/html/body/div/div/div/div[2]/div[1]/div[1]/div[4]/div/a\").click()\n",
    "    window_after = driver.window_handles[1]\n",
    "    # Переключаемся обратно\n",
    "    driver.switch_to.default_content()\n",
    "    driver.switch_to.window(window_after)\n",
    "    # Экран в полный формат\n",
    "    driver.fullscreen_window()\n",
    "\n",
    "    for city in tqdm(city_list):\n",
    "        try:\n",
    "            # Ввод тектса\n",
    "            driver.find_element(By.TAG_NAME, \"input\").send_keys(city)\n",
    "            # Нажать на ввод поиска\n",
    "            driver.find_element(By.TAG_NAME, \"button\").click()\n",
    "            # Цикл для зума\n",
    "            for i in range(10):\n",
    "                time.sleep(0.1)\n",
    "                # Нажать на кнопку приближения\n",
    "                driver.find_element(By.CLASS_NAME, \"zoom-control__zoom-in\").click()\n",
    "            # Проверяем загрузился ли элемент\n",
    "            test_page(driver=driver, delay=3,\n",
    "                      element=(By.XPATH,\n",
    "                               \"//span[@class='inline-image _loaded sidebar-toggle-button__icon']\"))\n",
    "            time.sleep(1)\n",
    "            # Нажать на кнопку для того, чтобы убрать поиск\n",
    "            driver.find_element(\n",
    "                By.XPATH,\n",
    "                \"//span[@class='inline-image _loaded sidebar-toggle-button__icon']\").click()\n",
    "            # Создаем папку для фото\n",
    "            if not os.path.exists(f\"Скриншоты/{Date}\"):\n",
    "                os.mkdir(f\"Скриншоты/{Date}\")\n",
    "\n",
    "            # Делаем скриншот\n",
    "            driver.save_screenshot(f'Скриншоты/{Date}/{city}.png')\n",
    "            # Отчистить поле поиска нажав кнопку\n",
    "            driver.find_element(\n",
    "                By.XPATH,\n",
    "                \"//div[@class='small-search-form-view__icon _type_close']\").click()\n",
    "        except:\n",
    "            print(f'Проблема с городом {city}')\n",
    "            continue\n",
    "    driver.quit()\n",
    "\n",
    "\n",
    "def find_words(key_words, text):\n",
    "    \"\"\"Проверяет есть ли слова в списке текстов, если есть, то возвращает их, если нет то\n",
    "    возвращает 0\"\"\"\n",
    "    find_list = []\n",
    "    for i in key_words:\n",
    "        if len(re.findall(rf'{i}', text)) != 0:\n",
    "            find_list = find_list + re.findall(rf'{i}', text)\n",
    "    find_list = ', '.join(find_list)\n",
    "    return find_list\n",
    "\n",
    "\n",
    "def find_distance(sentence, word1, word2):\n",
    "    \"\"\"Находит колличесво слов между двумя словами в тексте\"\"\"\n",
    "    distances = []\n",
    "    while sentence != \"\":\n",
    "        _, _, sentence = sentence.partition(word1)\n",
    "        text, _, _ = sentence.partition(word2)\n",
    "        if text != \"\":\n",
    "            distances.append(len(text.split()))\n",
    "    return distances\n",
    "\n",
    "def text_cheсk(df_with_text, text_column_name, all_key_words, cities_list):\n",
    "    \"\"\"определеяет в каких текстах есть ключивые слова (пересечение городов и проблеммы)\"\"\"\n",
    "    df_texts = df_with_text.copy()\n",
    "    # Выделяем леммы\n",
    "    new_text_list = lemm_finder(list_of_text=list(df_texts[text_column_name]))\n",
    "    # Проверяем тексты на ключевые слова\n",
    "    df_texts[\"New_text\"] = new_text_list\n",
    "    df_texts[\"Contains_key_words\"] = df_texts['New_text'].str.contains('|'.join(all_key_words)).astype(int)\n",
    "    df_texts[\"Contains_cities_list\"] = df_texts['New_text'].str.contains('|'.join(cities_list)).astype(int)\n",
    "\n",
    "    # Разделяем ключевые словосочетания на слова\n",
    "    all_key_words_split = []\n",
    "    for i in all_key_words:\n",
    "        all_key_words_split = all_key_words_split + i.split()\n",
    "    all_key_words_split = list(set(all_key_words_split))\n",
    "    # Формируем все возможные комбинации названий городов и ключевых слов\n",
    "    a = [cities_list,all_key_words_split]\n",
    "    all_combinations = list(itertools.product(*a))\n",
    "\n",
    "    good_index = []\n",
    "    for text_index in df_texts.index:\n",
    "        for iteration in range(len(all_combinations)):\n",
    "            try :\n",
    "                word_distance = find_distance(df_texts.loc[text_index]['New_text'], all_combinations[iteration][0], all_combinations[iteration][1])[0]\n",
    "                if word_distance <= 20:\n",
    "                    good_index.append(text_index)\n",
    "            except:\n",
    "                continue\n",
    "    good_index = set(good_index)\n",
    "    df_texts[\"Contains_20_words_length\"] = [ 1 if a in good_index else 0  for a in df_texts.index]\n",
    "    df_texts[\"Contains_sum\"] = df_texts[\"Contains_cities_list\"] + df_texts[\"Contains_key_words\"] + df_texts[\"Contains_20_words_length\"]\n",
    "    df_with_text['contain_key_words'] = contain_key_words_list = [1 if a == 3 else 0 for a in df_texts[\"Contains_sum\"]]\n",
    "    df_with_text['key_words_find'] = [\n",
    "        find_words(all_key_words + cities_list, df_texts.loc[index]['New_text']) if df_texts.loc[index][\n",
    "                                                                                        'Contains_sum'] == 3 else 0 for\n",
    "        index in df_texts.index]\n",
    "    return df_with_text"
   ],
   "metadata": {
    "collapsed": false,
    "pycharm": {
     "name": "#%%\n"
    }
   }
  },
  {
   "cell_type": "markdown",
   "source": [
    "# Код"
   ],
   "metadata": {
    "collapsed": false,
    "pycharm": {
     "name": "#%% md\n"
    }
   }
  },
  {
   "cell_type": "code",
   "execution_count": 7,
   "outputs": [
    {
     "name": "stderr",
     "output_type": "stream",
     "text": [
      "/var/folders/pt/rpf8lgcj6zjc0wsmcg9jyy6r0000gn/T/ipykernel_5279/1331623.py:39: DeprecationWarning: executable_path has been deprecated, please pass in a Service object\n",
      "  driver = webdriver.Chrome(executable_path=\"./chromedriver.exe\", options=options)\n"
     ]
    },
    {
     "data": {
      "text/plain": "  0%|          | 0/29 [00:00<?, ?it/s]",
      "application/vnd.jupyter.widget-view+json": {
       "version_major": 2,
       "version_minor": 0,
       "model_id": "7b5060f4551e4a1eb1869844f545ff6f"
      }
     },
     "metadata": {},
     "output_type": "display_data"
    },
    {
     "name": "stdout",
     "output_type": "stream",
     "text": [
      "Проблема с городом Мариуполь\n",
      "Проблема с городом Славянск\n",
      "Проблема с городом Горловка\n",
      "Проблема с городом Ясиноватая\n",
      "Проблема с городом Угледар\n",
      "Проблема с городом Запорожье\n",
      "Проблема с городом Энергодар\n",
      "Проблема с городом Краснодар\n",
      "Проблема с городом Новороссийск\n",
      "Проблема с городом Сочи\n",
      "Проблема с городом Анапа\n",
      "Проблема с городом Курск\n",
      "Проблема с городом Белгород\n"
     ]
    }
   ],
   "source": [
    "# Определяем сегодняшнюю дату\n",
    "now = datetime.datetime.now()\n",
    "Date = now.strftime(\"%d_%m_%Y\")\n",
    "# собираем лист название городов\n",
    "df_cities = pd.read_excel('Входные данные/Список_населенных_пунктов.xlsx')\n",
    "cities_list = df_cities['Населенные_пункты'].dropna()\n",
    "get_screens(city_list=cities_list, url='https://lostarmour.info/map/?ysclid=latojsz8nr362636823)', Date=Date)"
   ],
   "metadata": {
    "collapsed": false,
    "pycharm": {
     "name": "#%%\n"
    }
   }
  },
  {
   "cell_type": "code",
   "execution_count": 162,
   "outputs": [],
   "source": [
    "#  Блок Тимофея\n",
    "#russian_regions = ['крым', 'симферополь', 'севастополь', 'краснодарский край', 'сочи', 'белгород',\n",
    "#                    'белгородская область', 'ростов', 'ростовская область', 'курская область', 'брянская область']"
   ],
   "metadata": {
    "collapsed": false,
    "pycharm": {
     "name": "#%%\n"
    }
   }
  },
  {
   "cell_type": "code",
   "execution_count": 19,
   "outputs": [
    {
     "data": {
      "text/plain": "  0%|          | 0/18 [00:00<?, ?it/s]",
      "application/vnd.jupyter.widget-view+json": {
       "version_major": 2,
       "version_minor": 0,
       "model_id": "f6e3277f94e64148812198d21374cb0d"
      }
     },
     "metadata": {},
     "output_type": "display_data"
    },
    {
     "data": {
      "text/plain": "  0%|          | 0/18 [00:00<?, ?it/s]",
      "application/vnd.jupyter.widget-view+json": {
       "version_major": 2,
       "version_minor": 0,
       "model_id": "cc18139f1171484981978333902f3918"
      }
     },
     "metadata": {},
     "output_type": "display_data"
    },
    {
     "data": {
      "text/plain": "  0%|          | 0/109 [00:00<?, ?it/s]",
      "application/vnd.jupyter.widget-view+json": {
       "version_major": 2,
       "version_minor": 0,
       "model_id": "405ef2613e37434ab56ae4cd86d42407"
      }
     },
     "metadata": {},
     "output_type": "display_data"
    }
   ],
   "source": [
    "# Скачиваем данные\n",
    "df_texts0 = pd.read_excel('Входные данные/Тексты.xlsx')\n",
    "# Загружаем модель для обработки русского текста\n",
    "nlp = spacy.load('ru_core_news_sm-3.4.0')\n",
    "df_cities = pd.read_excel('Входные данные/Список_населенных_пунктов.xlsx')\n",
    "# собираем лист название городов\n",
    "cities_list = lemm_finder(list(df_cities['Населенные_пункты'].dropna()), stop_words=['область', 'обл', 'край', 'обл.'])\n",
    "\n",
    "# Выявление сообщений с ключевыми словами и городами\n",
    "text_cheсk_df = text_cheсk(df_with_text=df_texts0, text_column_name='Выдержки из текста',\n",
    "                           all_key_words=lemm_finder(list(df_cities['Тип_проблемы'].dropna())), cities_list=cities_list)\n",
    "\n",
    "text_cheсk_df.to_excel(f'Результат_обработки/{Date}.xlsx')\n"
   ],
   "metadata": {
    "collapsed": false,
    "pycharm": {
     "name": "#%%\n"
    }
   }
  },
  {
   "cell_type": "code",
   "execution_count": 29,
   "outputs": [],
   "source": [
    "import Zones"
   ],
   "metadata": {
    "collapsed": false,
    "pycharm": {
     "name": "#%%\n"
    }
   }
  },
  {
   "cell_type": "code",
   "execution_count": 33,
   "outputs": [
    {
     "name": "stderr",
     "output_type": "stream",
     "text": [
      "[ WARN:0@2188.198] global /Users/runner/work/opencv-python/opencv-python/opencv/modules/imgcodecs/src/loadsave.cpp (239) findDecoder imread_('Скриншоты/29_11_22/Запорожская обл..png'): can't open/read file: check file path/integrity\n"
     ]
    },
    {
     "ename": "AttributeError",
     "evalue": "'NoneType' object has no attribute 'shape'",
     "output_type": "error",
     "traceback": [
      "\u001B[0;31m---------------------------------------------------------------------------\u001B[0m",
      "\u001B[0;31mAttributeError\u001B[0m                            Traceback (most recent call last)",
      "Cell \u001B[0;32mIn [33], line 5\u001B[0m\n\u001B[1;32m      2\u001B[0m image_names \u001B[38;5;241m=\u001B[39m os\u001B[38;5;241m.\u001B[39mlistdir(\u001B[38;5;124mf\u001B[39m\u001B[38;5;124m'\u001B[39m\u001B[38;5;124mСкриншоты/\u001B[39m\u001B[38;5;132;01m{\u001B[39;00mDate\u001B[38;5;132;01m}\u001B[39;00m\u001B[38;5;124m'\u001B[39m)\n\u001B[1;32m      4\u001B[0m \u001B[38;5;28;01mfor\u001B[39;00m image_name \u001B[38;5;129;01min\u001B[39;00m image_names:\n\u001B[0;32m----> 5\u001B[0m     image_colors \u001B[38;5;241m=\u001B[39m \u001B[43mZones\u001B[49m\u001B[38;5;241;43m.\u001B[39;49m\u001B[43mget_image_colors\u001B[49m\u001B[43m(\u001B[49m\u001B[43mimage_name\u001B[49m\u001B[43m)\u001B[49m\n\u001B[1;32m      6\u001B[0m     zone_name \u001B[38;5;241m=\u001B[39m Zones\u001B[38;5;241m.\u001B[39mget_zone_name(image_colors)\n\u001B[1;32m      7\u001B[0m     result_column[image_name[:\u001B[38;5;241m-\u001B[39m\u001B[38;5;241m4\u001B[39m]] \u001B[38;5;241m=\u001B[39m zone_name\n",
      "File \u001B[0;32m~/Desktop/Мои проекты/Сбор_скриншотов/Zones.py:20\u001B[0m, in \u001B[0;36mget_image_colors\u001B[0;34m(image_name)\u001B[0m\n\u001B[1;32m     17\u001B[0m image_colors \u001B[38;5;241m=\u001B[39m []\n\u001B[1;32m     19\u001B[0m \u001B[38;5;28;01mfor\u001B[39;00m i \u001B[38;5;129;01min\u001B[39;00m (\u001B[38;5;241m1\u001B[39m,\u001B[38;5;241m2\u001B[39m,\u001B[38;5;241m3\u001B[39m,\u001B[38;5;241m4\u001B[39m):\n\u001B[0;32m---> 20\u001B[0m     gbr_colors \u001B[38;5;241m=\u001B[39m image[\u001B[43mimage\u001B[49m\u001B[38;5;241;43m.\u001B[39;49m\u001B[43mshape\u001B[49m[\u001B[38;5;241m0\u001B[39m]\u001B[38;5;241m/\u001B[39m\u001B[38;5;241m/\u001B[39mi \u001B[38;5;241m-\u001B[39m\u001B[38;5;241m1\u001B[39m, image\u001B[38;5;241m.\u001B[39mshape[\u001B[38;5;241m1\u001B[39m]\u001B[38;5;241m/\u001B[39m\u001B[38;5;241m/\u001B[39mi \u001B[38;5;241m-\u001B[39m \u001B[38;5;241m1\u001B[39m]\n\u001B[1;32m     21\u001B[0m     image_colors\u001B[38;5;241m.\u001B[39mappend(gbr_colors[::\u001B[38;5;241m-\u001B[39m\u001B[38;5;241m1\u001B[39m])\n\u001B[1;32m     23\u001B[0m \u001B[38;5;28;01mreturn\u001B[39;00m image_colors\n",
      "\u001B[0;31mAttributeError\u001B[0m: 'NoneType' object has no attribute 'shape'"
     ]
    }
   ],
   "source": [
    "\n",
    "Zones.get_territory_status(list(text_cheсk_df['key_words_find']),result_column)"
   ],
   "metadata": {
    "collapsed": false,
    "pycharm": {
     "name": "#%%\n"
    }
   }
  },
  {
   "cell_type": "code",
   "execution_count": 51,
   "outputs": [],
   "source": [
    "import os\n",
    "import cv2\n",
    "import numpy as np\n",
    "import math\n",
    "import datetime\n",
    "\n",
    "now = datetime.datetime.now()\n",
    "Date = now.strftime(\"%d_%m_%Y\")\n",
    "\n",
    "def get_image_path(image_name: str):\n",
    "    now = datetime.datetime.now()\n",
    "    Date = now.strftime(\"%d_%m_%Y\")\n",
    "\n",
    "    image_path = f'Скриншоты/{Date}' + '/' + image_name\n",
    "\n",
    "    return image_path\n",
    "\n",
    "\n",
    "def get_image_colors(image_name: str):\n",
    "    image_path = get_image_path(image_name)\n",
    "    image = cv2.imread(image_path)\n",
    "\n",
    "    image_colors = []\n",
    "\n",
    "    for i in (1, 2, 3, 4):\n",
    "        gbr_colors = image[image.shape[0] // i - 1, image.shape[1] // i - 1]\n",
    "        image_colors.append(gbr_colors[::-1])\n",
    "\n",
    "    return image_colors\n",
    "\n",
    "\n",
    "def calculate_color_differences_percent(first_color: list, second_color: list):\n",
    "    maximum_difference = math.sqrt(3 * 256 ** 2)\n",
    "\n",
    "    color_difference = math.sqrt((first_color[0] - second_color[0]) ** 2 + (first_color[1] - second_color[1]) ** 2 + (\n",
    "                first_color[2] - second_color[2]) ** 2)\n",
    "\n",
    "    color_difference_percent = color_difference / maximum_difference * 100\n",
    "\n",
    "    return color_difference_percent\n",
    "\n",
    "\n",
    "def check_colors(image_colors: list, zone_colors: list):\n",
    "    count = 0\n",
    "    for i in image_colors:\n",
    "        for j in zone_colors:\n",
    "            if calculate_color_differences_percent(i, j) < 6.00:\n",
    "                count += 1\n",
    "\n",
    "    if count >= 2:\n",
    "        return True\n",
    "    else:\n",
    "        return False\n",
    "\n",
    "\n",
    "def get_zone_name(image_colors: list):\n",
    "    orange_zone_colors = [[250, 223, 186], [204, 200, 182], [223, 213, 149]]\n",
    "    red_zone_colors = [[196, 177, 190], [242, 200, 194], [215, 190, 156]]\n",
    "\n",
    "    if check_colors(image_colors, orange_zone_colors):\n",
    "        return 'В зоне ДНР/ЛНР'\n",
    "    elif check_colors(image_colors, red_zone_colors):\n",
    "        return 'В зоне ДНР/ЛНР'\n",
    "    else:\n",
    "        return 'Не в зоне ДНР/ЛНР'\n",
    "\n",
    "\n",
    "\n",
    "\n",
    "\n",
    "def get_territory_status(key_words_find: list, result_column: dict):\n",
    "    territory_status = []\n",
    "    for i in key_words_find:\n",
    "        if i == 0:\n",
    "            territory_status.append(0)\n",
    "        else:\n",
    "            row_list = i.split(', ')\n",
    "            res_list = []\n",
    "            for j in row_list:\n",
    "                try:\n",
    "                    result_column[j]\n",
    "                except KeyError:\n",
    "                    pass\n",
    "                else:\n",
    "                    res_list.append(result_column[j])\n",
    "\n",
    "            territory_status.append(res_list)\n",
    "\n",
    "    return territory_status\n"
   ],
   "metadata": {
    "collapsed": false,
    "pycharm": {
     "name": "#%%\n"
    }
   }
  },
  {
   "cell_type": "code",
   "execution_count": 52,
   "outputs": [
    {
     "name": "stdout",
     "output_type": "stream",
     "text": [
      "{'донецк': 'В зоне ДНР/ЛНР', 'горловка': 'В зоне ДНР/ЛНР', 'запорожская обл.': 'В зоне ДНР/ЛНР', 'новороссийск': 'Не в зоне ДНР/ЛНР', 'ростовская обл.': 'Не в зоне ДНР/ЛНР', 'ясиноватая': 'В зоне ДНР/ЛНР', 'крым': 'Не в зоне ДНР/ЛНР', 'мариуполь': 'В зоне ДНР/ЛНР', 'анапа': 'Не в зоне ДНР/ЛНР', 'донбасс': 'Не в зоне ДНР/ЛНР', 'днр': 'В зоне ДНР/ЛНР', 'севастополь': 'Не в зоне ДНР/ЛНР', 'курск': 'Не в зоне ДНР/ЛНР', 'курская область': 'Не в зоне ДНР/ЛНР', 'херсонская обл.': 'В зоне ДНР/ЛНР', 'энергодар': 'В зоне ДНР/ЛНР', 'угледар': 'Не в зоне ДНР/ЛНР', 'брянская область': 'Не в зоне ДНР/ЛНР', 'геообъекты': 'Не в зоне ДНР/ЛНР', 'запорожье': 'В зоне ДНР/ЛНР', 'донецкая область': 'В зоне ДНР/ЛНР', 'краснодар': 'Не в зоне ДНР/ЛНР', 'белгородская область': 'Не в зоне ДНР/ЛНР', 'лнр': 'В зоне ДНР/ЛНР', 'краснодарский край': 'Не в зоне ДНР/ЛНР', 'славянск': 'В зоне ДНР/ЛНР', 'белгород': 'Не в зоне ДНР/ЛНР', 'луганская область': 'В зоне ДНР/ЛНР'}\n"
     ]
    }
   ],
   "source": [
    "result_column = {}\n",
    "image_names = os.listdir(f'Скриншоты/{Date}')\n",
    "\n",
    "for image_name in image_names:\n",
    "    image_colors = get_image_colors(image_name)\n",
    "    zone_name = get_zone_name(image_colors)\n",
    "    result_column[image_name.lower()[:-4]] = zone_name\n",
    "\n",
    "print(result_column)"
   ],
   "metadata": {
    "collapsed": false,
    "pycharm": {
     "name": "#%%\n"
    }
   }
  },
  {
   "cell_type": "code",
   "execution_count": 42,
   "outputs": [
    {
     "data": {
      "text/plain": "'Не в зоне ДНР/ЛНР'"
     },
     "execution_count": 42,
     "metadata": {},
     "output_type": "execute_result"
    }
   ],
   "source": [
    "result_column.get('белгород')"
   ],
   "metadata": {
    "collapsed": false,
    "pycharm": {
     "name": "#%%\n"
    }
   }
  },
  {
   "cell_type": "code",
   "execution_count": 54,
   "outputs": [
    {
     "data": {
      "text/plain": "     Подзаголовок              Дата  \\\n0             NaN  17.11.2022 22:09   \n1             NaN  17.11.2022 22:01   \n2             NaN  17.11.2022 21:49   \n3             NaN  17.11.2022 21:27   \n4             NaN  17.11.2022 21:20   \n..            ...               ...   \n104           NaN  17.11.2022 02:45   \n105           NaN  17.11.2022 01:44   \n106           NaN  17.11.2022 01:43   \n107           NaN  17.11.2022 00:02   \n108           NaN  17.11.2022 00:01   \n\n                                           Источник  \\\n0       Комсомольская правда - Белгород (bel.kp.ru)   \n1                Царьград (md.tsargrad.tv). Молдова   \n2                 Красная весна (rossaprimavera.ru)   \n3                          Курс дела (kursdela.biz)   \n4                      Комсомольская правда (kp.ru)   \n..                                              ...   \n104                     Sololaki (blog.sololaki.ru)   \n105  Ежедневные новости Владивостока (novostivl.ru)   \n106  Ежедневные новости Владивостока (novostivl.ru)   \n107               Волгодонская правда (v-pravda.ru)   \n108                                Известия (iz.ru)   \n\n                                             Заголовок  \\\n0    Энергетики восстановили электроснабжение больш...   \n1    Украина осталась без ракетных двигателей – уда...   \n2    Укрэнерго: 70% потребителей центра Украины вер...   \n3    Челябинская область переходит на ГИС ЖКХ: что ...   \n4       На Украине будет не только темно, но и холодно   \n..                                                 ...   \n104  Поставки нефти почему-то остановились только в...   \n105  Небензя отверг попытки возложить на РФ ответст...   \n106  RusVesna проинформировала о взрывах в Джанкое ...   \n107  Ситуация на Украине и в Донбассе. 17 ноября. Х...   \n108  Цели достигнуты: российские ракеты выбили крит...   \n\n                                    Выдержки из текста  \\\n0      В настоящее время в зоне отключения остаются...   \n1                                                  ...   \n2                                                  ...   \n3      Предполагается, что большинство вопросов мож...   \n4      ЕС констатирует: Разрушение энергетики Украи...   \n..                                                 ...   \n104      Что с \"Дружбой\"? Фьючерсы на нефть марки W...   \n105               17 ноября - NVL. Постпред при ООН...   \n106               17 ноября - NVL. В северной части...   \n107        скриншот видео Минобороны РФ    Вооружен...   \n108    Как это скажется на ситуации в зоне проведен...   \n\n                                    Ссылка на источник Автор  \\\n0           https://www.bel.kp.ru/online/news/5015379/   NaN   \n1    https://md.tsargrad.tv/news/ukraina-ostalas-be...   NaN   \n2              https://rossaprimavera.ru/news/75525e24   NaN   \n3    https://kursdela.biz/news/2022-11-17/chelyabin...   NaN   \n4               https://www.kp.ru/daily/27472/4679184/   NaN   \n..                                                 ...   ...   \n104  https://sololaki.ru/postavki-nefti-pochemu-to-...   NaN   \n105          https://novostivl.ru/news/20221117/82746/   NaN   \n106          https://novostivl.ru/news/20221117/82748/   NaN   \n107  https://v-pravda.ru/2022/11/17/situaciya-na-uk...   NaN   \n108  https://iz.ru/1426649/andrei-fedorov-anton-lav...   NaN   \n\n      Категория источника Уровень источника  \\\n0             Порталы СМИ      Региональный   \n1             Порталы СМИ        Зарубежный   \n2    Ленты информагентств       Федеральный   \n3             Порталы СМИ      Региональный   \n4             Порталы СМИ       Федеральный   \n..                    ...               ...   \n104           Порталы СМИ        Зарубежный   \n105           Порталы СМИ      Региональный   \n106           Порталы СМИ      Региональный   \n107           Порталы СМИ      Региональный   \n108           Порталы СМИ       Федеральный   \n\n                           Регион источника  Индекс заметности  \\\n0    Белгород (город, Белгородская Область)                301   \n1                                  Молдавия                102   \n2                                    Москва                 27   \n3    Челябинск (город, Челябинская Область)                  8   \n4                                    Москва                376   \n..                                      ...                ...   \n104                                  Грузия                  1   \n105    Владивосток (город, Приморский Край)                 14   \n106    Владивосток (город, Приморский Край)                 28   \n107  Волгодонск (город, Ростовская Область)                  9   \n108                                  Москва                619   \n\n    Охват аудитории  Похожих публикаций (с учетом выбранной группировки)  \\\n0             41417                                                  2     \n1             14646                                                  2     \n2            138955                                                  1     \n3              4359                                                  1     \n4           2070504                                                  5     \n..              ...                                                ...     \n104               2                                                  1     \n105          369716                                                  1     \n106          369716                                                  2     \n107            3155                                                  1     \n108          911185                                                  4     \n\n     contain_key_words key_words_find territory_status  \n0                    0              0                0  \n1                    0              0                0  \n2                    0              0                0  \n3                    0              0                0  \n4                    0              0                0  \n..                 ...            ...              ...  \n104                  0              0                0  \n105                  0              0                0  \n106                  0              0                0  \n107                  0              0                0  \n108                  0              0                0  \n\n[109 rows x 16 columns]",
      "text/html": "<div>\n<style scoped>\n    .dataframe tbody tr th:only-of-type {\n        vertical-align: middle;\n    }\n\n    .dataframe tbody tr th {\n        vertical-align: top;\n    }\n\n    .dataframe thead th {\n        text-align: right;\n    }\n</style>\n<table border=\"1\" class=\"dataframe\">\n  <thead>\n    <tr style=\"text-align: right;\">\n      <th></th>\n      <th>Подзаголовок</th>\n      <th>Дата</th>\n      <th>Источник</th>\n      <th>Заголовок</th>\n      <th>Выдержки из текста</th>\n      <th>Ссылка на источник</th>\n      <th>Автор</th>\n      <th>Категория источника</th>\n      <th>Уровень источника</th>\n      <th>Регион источника</th>\n      <th>Индекс заметности</th>\n      <th>Охват аудитории</th>\n      <th>Похожих публикаций (с учетом выбранной группировки)</th>\n      <th>contain_key_words</th>\n      <th>key_words_find</th>\n      <th>territory_status</th>\n    </tr>\n  </thead>\n  <tbody>\n    <tr>\n      <th>0</th>\n      <td>NaN</td>\n      <td>17.11.2022 22:09</td>\n      <td>Комсомольская правда - Белгород (bel.kp.ru)</td>\n      <td>Энергетики восстановили электроснабжение больш...</td>\n      <td>В настоящее время в зоне отключения остаются...</td>\n      <td>https://www.bel.kp.ru/online/news/5015379/</td>\n      <td>NaN</td>\n      <td>Порталы СМИ</td>\n      <td>Региональный</td>\n      <td>Белгород (город, Белгородская Область)</td>\n      <td>301</td>\n      <td>41417</td>\n      <td>2</td>\n      <td>0</td>\n      <td>0</td>\n      <td>0</td>\n    </tr>\n    <tr>\n      <th>1</th>\n      <td>NaN</td>\n      <td>17.11.2022 22:01</td>\n      <td>Царьград (md.tsargrad.tv). Молдова</td>\n      <td>Украина осталась без ракетных двигателей – уда...</td>\n      <td>...</td>\n      <td>https://md.tsargrad.tv/news/ukraina-ostalas-be...</td>\n      <td>NaN</td>\n      <td>Порталы СМИ</td>\n      <td>Зарубежный</td>\n      <td>Молдавия</td>\n      <td>102</td>\n      <td>14646</td>\n      <td>2</td>\n      <td>0</td>\n      <td>0</td>\n      <td>0</td>\n    </tr>\n    <tr>\n      <th>2</th>\n      <td>NaN</td>\n      <td>17.11.2022 21:49</td>\n      <td>Красная весна (rossaprimavera.ru)</td>\n      <td>Укрэнерго: 70% потребителей центра Украины вер...</td>\n      <td>...</td>\n      <td>https://rossaprimavera.ru/news/75525e24</td>\n      <td>NaN</td>\n      <td>Ленты информагентств</td>\n      <td>Федеральный</td>\n      <td>Москва</td>\n      <td>27</td>\n      <td>138955</td>\n      <td>1</td>\n      <td>0</td>\n      <td>0</td>\n      <td>0</td>\n    </tr>\n    <tr>\n      <th>3</th>\n      <td>NaN</td>\n      <td>17.11.2022 21:27</td>\n      <td>Курс дела (kursdela.biz)</td>\n      <td>Челябинская область переходит на ГИС ЖКХ: что ...</td>\n      <td>Предполагается, что большинство вопросов мож...</td>\n      <td>https://kursdela.biz/news/2022-11-17/chelyabin...</td>\n      <td>NaN</td>\n      <td>Порталы СМИ</td>\n      <td>Региональный</td>\n      <td>Челябинск (город, Челябинская Область)</td>\n      <td>8</td>\n      <td>4359</td>\n      <td>1</td>\n      <td>0</td>\n      <td>0</td>\n      <td>0</td>\n    </tr>\n    <tr>\n      <th>4</th>\n      <td>NaN</td>\n      <td>17.11.2022 21:20</td>\n      <td>Комсомольская правда (kp.ru)</td>\n      <td>На Украине будет не только темно, но и холодно</td>\n      <td>ЕС констатирует: Разрушение энергетики Украи...</td>\n      <td>https://www.kp.ru/daily/27472/4679184/</td>\n      <td>NaN</td>\n      <td>Порталы СМИ</td>\n      <td>Федеральный</td>\n      <td>Москва</td>\n      <td>376</td>\n      <td>2070504</td>\n      <td>5</td>\n      <td>0</td>\n      <td>0</td>\n      <td>0</td>\n    </tr>\n    <tr>\n      <th>...</th>\n      <td>...</td>\n      <td>...</td>\n      <td>...</td>\n      <td>...</td>\n      <td>...</td>\n      <td>...</td>\n      <td>...</td>\n      <td>...</td>\n      <td>...</td>\n      <td>...</td>\n      <td>...</td>\n      <td>...</td>\n      <td>...</td>\n      <td>...</td>\n      <td>...</td>\n      <td>...</td>\n    </tr>\n    <tr>\n      <th>104</th>\n      <td>NaN</td>\n      <td>17.11.2022 02:45</td>\n      <td>Sololaki (blog.sololaki.ru)</td>\n      <td>Поставки нефти почему-то остановились только в...</td>\n      <td>Что с \"Дружбой\"? Фьючерсы на нефть марки W...</td>\n      <td>https://sololaki.ru/postavki-nefti-pochemu-to-...</td>\n      <td>NaN</td>\n      <td>Порталы СМИ</td>\n      <td>Зарубежный</td>\n      <td>Грузия</td>\n      <td>1</td>\n      <td>2</td>\n      <td>1</td>\n      <td>0</td>\n      <td>0</td>\n      <td>0</td>\n    </tr>\n    <tr>\n      <th>105</th>\n      <td>NaN</td>\n      <td>17.11.2022 01:44</td>\n      <td>Ежедневные новости Владивостока (novostivl.ru)</td>\n      <td>Небензя отверг попытки возложить на РФ ответст...</td>\n      <td>17 ноября - NVL. Постпред при ООН...</td>\n      <td>https://novostivl.ru/news/20221117/82746/</td>\n      <td>NaN</td>\n      <td>Порталы СМИ</td>\n      <td>Региональный</td>\n      <td>Владивосток (город, Приморский Край)</td>\n      <td>14</td>\n      <td>369716</td>\n      <td>1</td>\n      <td>0</td>\n      <td>0</td>\n      <td>0</td>\n    </tr>\n    <tr>\n      <th>106</th>\n      <td>NaN</td>\n      <td>17.11.2022 01:43</td>\n      <td>Ежедневные новости Владивостока (novostivl.ru)</td>\n      <td>RusVesna проинформировала о взрывах в Джанкое ...</td>\n      <td>17 ноября - NVL. В северной части...</td>\n      <td>https://novostivl.ru/news/20221117/82748/</td>\n      <td>NaN</td>\n      <td>Порталы СМИ</td>\n      <td>Региональный</td>\n      <td>Владивосток (город, Приморский Край)</td>\n      <td>28</td>\n      <td>369716</td>\n      <td>2</td>\n      <td>0</td>\n      <td>0</td>\n      <td>0</td>\n    </tr>\n    <tr>\n      <th>107</th>\n      <td>NaN</td>\n      <td>17.11.2022 00:02</td>\n      <td>Волгодонская правда (v-pravda.ru)</td>\n      <td>Ситуация на Украине и в Донбассе. 17 ноября. Х...</td>\n      <td>скриншот видео Минобороны РФ    Вооружен...</td>\n      <td>https://v-pravda.ru/2022/11/17/situaciya-na-uk...</td>\n      <td>NaN</td>\n      <td>Порталы СМИ</td>\n      <td>Региональный</td>\n      <td>Волгодонск (город, Ростовская Область)</td>\n      <td>9</td>\n      <td>3155</td>\n      <td>1</td>\n      <td>0</td>\n      <td>0</td>\n      <td>0</td>\n    </tr>\n    <tr>\n      <th>108</th>\n      <td>NaN</td>\n      <td>17.11.2022 00:01</td>\n      <td>Известия (iz.ru)</td>\n      <td>Цели достигнуты: российские ракеты выбили крит...</td>\n      <td>Как это скажется на ситуации в зоне проведен...</td>\n      <td>https://iz.ru/1426649/andrei-fedorov-anton-lav...</td>\n      <td>NaN</td>\n      <td>Порталы СМИ</td>\n      <td>Федеральный</td>\n      <td>Москва</td>\n      <td>619</td>\n      <td>911185</td>\n      <td>4</td>\n      <td>0</td>\n      <td>0</td>\n      <td>0</td>\n    </tr>\n  </tbody>\n</table>\n<p>109 rows × 16 columns</p>\n</div>"
     },
     "execution_count": 54,
     "metadata": {},
     "output_type": "execute_result"
    }
   ],
   "source": [
    "\n",
    "text_cheсk_df['territory_status'] = get_territory_status(list(text_cheсk_df['key_words_find']), result_column)\n",
    "\n",
    "text_cheсk_df"
   ],
   "metadata": {
    "collapsed": false,
    "pycharm": {
     "name": "#%%\n"
    }
   }
  },
  {
   "cell_type": "code",
   "execution_count": null,
   "outputs": [],
   "source": [],
   "metadata": {
    "collapsed": false,
    "pycharm": {
     "name": "#%%\n"
    }
   }
  }
 ],
 "metadata": {
  "kernelspec": {
   "display_name": "Python 3 (ipykernel)",
   "language": "python",
   "name": "python3"
  },
  "language_info": {
   "codemirror_mode": {
    "name": "ipython",
    "version": 3
   },
   "file_extension": ".py",
   "mimetype": "text/x-python",
   "name": "python",
   "nbconvert_exporter": "python",
   "pygments_lexer": "ipython3",
   "version": "3.9.12"
  },
  "toc": {
   "base_numbering": 1,
   "nav_menu": {},
   "number_sections": true,
   "sideBar": true,
   "skip_h1_title": false,
   "title_cell": "Table of Contents",
   "title_sidebar": "Contents",
   "toc_cell": false,
   "toc_position": {},
   "toc_section_display": true,
   "toc_window_display": false
  },
  "varInspector": {
   "cols": {
    "lenName": 16,
    "lenType": 16,
    "lenVar": 40
   },
   "kernels_config": {
    "python": {
     "delete_cmd_postfix": "",
     "delete_cmd_prefix": "del ",
     "library": "var_list.py",
     "varRefreshCmd": "print(var_dic_list())"
    },
    "r": {
     "delete_cmd_postfix": ") ",
     "delete_cmd_prefix": "rm(",
     "library": "var_list.r",
     "varRefreshCmd": "cat(var_dic_list()) "
    }
   },
   "types_to_exclude": [
    "module",
    "function",
    "builtin_function_or_method",
    "instance",
    "_Feature"
   ],
   "window_display": false
  }
 },
 "nbformat": 4,
 "nbformat_minor": 5
}